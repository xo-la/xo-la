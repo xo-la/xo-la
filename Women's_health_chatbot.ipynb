{
  "nbformat": 4,
  "nbformat_minor": 0,
  "metadata": {
    "colab": {
      "provenance": [],
      "authorship_tag": "ABX9TyNI6mh9o2mHCQxIYaLz36Wv",
      "include_colab_link": true
    },
    "kernelspec": {
      "name": "python3",
      "display_name": "Python 3"
    },
    "language_info": {
      "name": "python"
    }
  },
  "cells": [
    {
      "cell_type": "markdown",
      "metadata": {
        "id": "view-in-github",
        "colab_type": "text"
      },
      "source": [
        "<a href=\"https://colab.research.google.com/github/xo-la/xo-la/blob/main/Women's_health_chatbot.ipynb\" target=\"_parent\"><img src=\"https://colab.research.google.com/assets/colab-badge.svg\" alt=\"Open In Colab\"/></a>"
      ]
    },
    {
      "cell_type": "code",
      "execution_count": null,
      "metadata": {
        "id": "ntz5bfEo2lkL"
      },
      "outputs": [],
      "source": [
        " # description ; this is a chat bot program\n"
      ]
    },
    {
      "cell_type": "code",
      "source": [
        "pip install nltk"
      ],
      "metadata": {
        "colab": {
          "base_uri": "https://localhost:8080/"
        },
        "id": "y55GZCMo4v49",
        "outputId": "d648ba9b-8c38-49d8-a893-e5d237e2f0c3"
      },
      "execution_count": null,
      "outputs": [
        {
          "output_type": "stream",
          "name": "stdout",
          "text": [
            "Requirement already satisfied: nltk in /usr/local/lib/python3.10/dist-packages (3.8.1)\n",
            "Requirement already satisfied: click in /usr/local/lib/python3.10/dist-packages (from nltk) (8.1.7)\n",
            "Requirement already satisfied: joblib in /usr/local/lib/python3.10/dist-packages (from nltk) (1.3.2)\n",
            "Requirement already satisfied: regex>=2021.8.3 in /usr/local/lib/python3.10/dist-packages (from nltk) (2023.12.25)\n",
            "Requirement already satisfied: tqdm in /usr/local/lib/python3.10/dist-packages (from nltk) (4.66.2)\n"
          ]
        }
      ]
    },
    {
      "cell_type": "code",
      "source": [
        "pip install newspaper3k"
      ],
      "metadata": {
        "colab": {
          "base_uri": "https://localhost:8080/"
        },
        "id": "MxyRqZWQ4zIP",
        "outputId": "5b55ca20-d9ee-4780-beba-ded1601bc262"
      },
      "execution_count": null,
      "outputs": [
        {
          "output_type": "stream",
          "name": "stdout",
          "text": [
            "Collecting newspaper3k\n",
            "  Downloading newspaper3k-0.2.8-py3-none-any.whl (211 kB)\n",
            "\u001b[2K     \u001b[90m━━━━━━━━━━━━━━━━━━━━━━━━━━━━━━━━━━━━━━━━\u001b[0m \u001b[32m211.1/211.1 kB\u001b[0m \u001b[31m3.1 MB/s\u001b[0m eta \u001b[36m0:00:00\u001b[0m\n",
            "\u001b[?25hRequirement already satisfied: beautifulsoup4>=4.4.1 in /usr/local/lib/python3.10/dist-packages (from newspaper3k) (4.12.3)\n",
            "Requirement already satisfied: Pillow>=3.3.0 in /usr/local/lib/python3.10/dist-packages (from newspaper3k) (9.4.0)\n",
            "Requirement already satisfied: PyYAML>=3.11 in /usr/local/lib/python3.10/dist-packages (from newspaper3k) (6.0.1)\n",
            "Collecting cssselect>=0.9.2 (from newspaper3k)\n",
            "  Downloading cssselect-1.2.0-py2.py3-none-any.whl (18 kB)\n",
            "Requirement already satisfied: lxml>=3.6.0 in /usr/local/lib/python3.10/dist-packages (from newspaper3k) (4.9.4)\n",
            "Requirement already satisfied: nltk>=3.2.1 in /usr/local/lib/python3.10/dist-packages (from newspaper3k) (3.8.1)\n",
            "Requirement already satisfied: requests>=2.10.0 in /usr/local/lib/python3.10/dist-packages (from newspaper3k) (2.31.0)\n",
            "Collecting feedparser>=5.2.1 (from newspaper3k)\n",
            "  Downloading feedparser-6.0.11-py3-none-any.whl (81 kB)\n",
            "\u001b[2K     \u001b[90m━━━━━━━━━━━━━━━━━━━━━━━━━━━━━━━━━━━━━━━━\u001b[0m \u001b[32m81.3/81.3 kB\u001b[0m \u001b[31m7.8 MB/s\u001b[0m eta \u001b[36m0:00:00\u001b[0m\n",
            "\u001b[?25hCollecting tldextract>=2.0.1 (from newspaper3k)\n",
            "  Downloading tldextract-5.1.2-py3-none-any.whl (97 kB)\n",
            "\u001b[2K     \u001b[90m━━━━━━━━━━━━━━━━━━━━━━━━━━━━━━━━━━━━━━━━\u001b[0m \u001b[32m97.6/97.6 kB\u001b[0m \u001b[31m8.2 MB/s\u001b[0m eta \u001b[36m0:00:00\u001b[0m\n",
            "\u001b[?25hCollecting feedfinder2>=0.0.4 (from newspaper3k)\n",
            "  Downloading feedfinder2-0.0.4.tar.gz (3.3 kB)\n",
            "  Preparing metadata (setup.py) ... \u001b[?25l\u001b[?25hdone\n",
            "Collecting jieba3k>=0.35.1 (from newspaper3k)\n",
            "  Downloading jieba3k-0.35.1.zip (7.4 MB)\n",
            "\u001b[2K     \u001b[90m━━━━━━━━━━━━━━━━━━━━━━━━━━━━━━━━━━━━━━━━\u001b[0m \u001b[32m7.4/7.4 MB\u001b[0m \u001b[31m16.9 MB/s\u001b[0m eta \u001b[36m0:00:00\u001b[0m\n",
            "\u001b[?25h  Preparing metadata (setup.py) ... \u001b[?25l\u001b[?25hdone\n",
            "Requirement already satisfied: python-dateutil>=2.5.3 in /usr/local/lib/python3.10/dist-packages (from newspaper3k) (2.8.2)\n",
            "Collecting tinysegmenter==0.3 (from newspaper3k)\n",
            "  Downloading tinysegmenter-0.3.tar.gz (16 kB)\n",
            "  Preparing metadata (setup.py) ... \u001b[?25l\u001b[?25hdone\n",
            "Requirement already satisfied: soupsieve>1.2 in /usr/local/lib/python3.10/dist-packages (from beautifulsoup4>=4.4.1->newspaper3k) (2.5)\n",
            "Requirement already satisfied: six in /usr/local/lib/python3.10/dist-packages (from feedfinder2>=0.0.4->newspaper3k) (1.16.0)\n",
            "Collecting sgmllib3k (from feedparser>=5.2.1->newspaper3k)\n",
            "  Downloading sgmllib3k-1.0.0.tar.gz (5.8 kB)\n",
            "  Preparing metadata (setup.py) ... \u001b[?25l\u001b[?25hdone\n",
            "Requirement already satisfied: click in /usr/local/lib/python3.10/dist-packages (from nltk>=3.2.1->newspaper3k) (8.1.7)\n",
            "Requirement already satisfied: joblib in /usr/local/lib/python3.10/dist-packages (from nltk>=3.2.1->newspaper3k) (1.3.2)\n",
            "Requirement already satisfied: regex>=2021.8.3 in /usr/local/lib/python3.10/dist-packages (from nltk>=3.2.1->newspaper3k) (2023.12.25)\n",
            "Requirement already satisfied: tqdm in /usr/local/lib/python3.10/dist-packages (from nltk>=3.2.1->newspaper3k) (4.66.2)\n",
            "Requirement already satisfied: charset-normalizer<4,>=2 in /usr/local/lib/python3.10/dist-packages (from requests>=2.10.0->newspaper3k) (3.3.2)\n",
            "Requirement already satisfied: idna<4,>=2.5 in /usr/local/lib/python3.10/dist-packages (from requests>=2.10.0->newspaper3k) (3.6)\n",
            "Requirement already satisfied: urllib3<3,>=1.21.1 in /usr/local/lib/python3.10/dist-packages (from requests>=2.10.0->newspaper3k) (2.0.7)\n",
            "Requirement already satisfied: certifi>=2017.4.17 in /usr/local/lib/python3.10/dist-packages (from requests>=2.10.0->newspaper3k) (2024.2.2)\n",
            "Collecting requests-file>=1.4 (from tldextract>=2.0.1->newspaper3k)\n",
            "  Downloading requests_file-2.0.0-py2.py3-none-any.whl (4.2 kB)\n",
            "Requirement already satisfied: filelock>=3.0.8 in /usr/local/lib/python3.10/dist-packages (from tldextract>=2.0.1->newspaper3k) (3.13.1)\n",
            "Building wheels for collected packages: tinysegmenter, feedfinder2, jieba3k, sgmllib3k\n",
            "  Building wheel for tinysegmenter (setup.py) ... \u001b[?25l\u001b[?25hdone\n",
            "  Created wheel for tinysegmenter: filename=tinysegmenter-0.3-py3-none-any.whl size=13538 sha256=4f82d5d4876d226ae4c8d93ecbdce5bd2503a52f6de4b0588534374882ee19db\n",
            "  Stored in directory: /root/.cache/pip/wheels/c8/d6/6c/384f58df48c00b9a31d638005143b5b3ac62c3d25fb1447f23\n",
            "  Building wheel for feedfinder2 (setup.py) ... \u001b[?25l\u001b[?25hdone\n",
            "  Created wheel for feedfinder2: filename=feedfinder2-0.0.4-py3-none-any.whl size=3340 sha256=b62bd5f58d971ccdb0a73491e35af47e95c797f74bd34949ba8617d3d6a3b095\n",
            "  Stored in directory: /root/.cache/pip/wheels/97/02/e7/a1ff1760e12bdbaab0ac824fae5c1bc933e41c4ccd6a8f8edb\n",
            "  Building wheel for jieba3k (setup.py) ... \u001b[?25l\u001b[?25hdone\n",
            "  Created wheel for jieba3k: filename=jieba3k-0.35.1-py3-none-any.whl size=7398382 sha256=254fc482f93fb1c690b2b245f2183aeaa6fd3b43be6479d64dce27362d2eaa61\n",
            "  Stored in directory: /root/.cache/pip/wheels/7a/c4/0c/12a9a314ecac499456c4c3b2fcc2f635a3b45a39dfbd240299\n",
            "  Building wheel for sgmllib3k (setup.py) ... \u001b[?25l\u001b[?25hdone\n",
            "  Created wheel for sgmllib3k: filename=sgmllib3k-1.0.0-py3-none-any.whl size=6049 sha256=de1b62fbce35ecaa4669946e05d8e1adf5a805335bd02824dcdad2d61b3f3506\n",
            "  Stored in directory: /root/.cache/pip/wheels/f0/69/93/a47e9d621be168e9e33c7ce60524393c0b92ae83cf6c6e89c5\n",
            "Successfully built tinysegmenter feedfinder2 jieba3k sgmllib3k\n",
            "Installing collected packages: tinysegmenter, sgmllib3k, jieba3k, feedparser, cssselect, requests-file, feedfinder2, tldextract, newspaper3k\n",
            "Successfully installed cssselect-1.2.0 feedfinder2-0.0.4 feedparser-6.0.11 jieba3k-0.35.1 newspaper3k-0.2.8 requests-file-2.0.0 sgmllib3k-1.0.0 tinysegmenter-0.3 tldextract-5.1.2\n"
          ]
        }
      ]
    },
    {
      "cell_type": "code",
      "source": [
        "#import the libraries\n",
        "from newspaper import Article\n",
        "import random\n",
        "import string\n",
        "import nltk\n",
        "from sklearn.feature_extraction.text import CountVectorizer\n",
        "from sklearn.metrics.pairwise import cosine_similarity\n",
        "import numpy as np\n",
        "import warnings\n",
        "warnings.filterwarnings('ignore')"
      ],
      "metadata": {
        "id": "9mlQPIyC4_Bq"
      },
      "execution_count": null,
      "outputs": []
    },
    {
      "cell_type": "code",
      "source": [
        "#download the punkt package.\n",
        "nltk.download('punkt',quiet= True)"
      ],
      "metadata": {
        "colab": {
          "base_uri": "https://localhost:8080/"
        },
        "id": "48qw8jG8DNWB",
        "outputId": "8eaa7239-f672-4e6b-8b05-c3427c842e0a"
      },
      "execution_count": null,
      "outputs": [
        {
          "output_type": "execute_result",
          "data": {
            "text/plain": [
              "True"
            ]
          },
          "metadata": {},
          "execution_count": 8
        }
      ]
    },
    {
      "cell_type": "code",
      "source": [
        "#get the article\n",
        "article = Article ('https://www.medicinenet.com/womens_health/article.htm')\n",
        "article.download()\n",
        "article.parse()\n",
        "article.nlp()\n",
        "corpus= article.text"
      ],
      "metadata": {
        "id": "qFm6cY61DdTa"
      },
      "execution_count": null,
      "outputs": []
    },
    {
      "cell_type": "code",
      "source": [
        "#print the articles text\n",
        "print(corpus)"
      ],
      "metadata": {
        "colab": {
          "base_uri": "https://localhost:8080/"
        },
        "id": "vBpSvILmE6CX",
        "outputId": "53389346-9498-4a20-ab07-231d1fb81015"
      },
      "execution_count": null,
      "outputs": [
        {
          "output_type": "stream",
          "name": "stdout",
          "text": [
            "Women's general health and wellness\n",
            "\n",
            "There is credible information available to women not only on such problems as eating disorders, stress, alcoholism, addictions, and depression, but also on basic topics such as good nutrition, heart health, and exercise.\n",
            "\n",
            "Women’s health comprises not only health concerns such as eating disorders, stress, alcoholism, addictions, and depression, but also good nutrition, heart health, and exercise. Differences in hormones, metabolism, and anatomy make Women’s health a unique topic beyond the normal health and wellness standards.\n",
            "\n",
            "For example, it is beneficial a woman maintains an optimum weight. If a woman's waist size measures more than 35 inches (89 cm), she is more likely to develop heart disease, high blood pressure, and diabetes. Eating sensible meals, eliminating after-dinner snacks, and making physical activity a part of daily life are significant ways to help control weight and lower the risk of a long list of health problems.\n",
            "\n",
            "Smoking is detrimental to everyone's health and the health of those around them. Despite the known health risks, many women continue to smoke. Even though the number of female smokers is declining, about 12% of women in the U.S. continue to smoke in spite of the well-publicized risks including cancer, heart disease, and innumerable other health issues.\n",
            "\n",
            "Drinking an excessive amount of alcohol is also harmful to health. Although women typically begin drinking at a later age than men and tend to drink somewhat less, lower doses of alcohol are required for women to develop alcohol-related medical problems including alcohol toxicity, cirrhosis, and hepatitis.\n",
            "\n",
            "Women should be aware they metabolize many drugs differently than men. In some cases, and for some medications, the rate of metabolism in women may be slower, and in other cases, faster. It is essential that women are well informed about the kinds and correct dosages of any drugs they are taking.\n"
          ]
        }
      ]
    },
    {
      "cell_type": "code",
      "source": [
        "#Tokenization\n",
        "text = corpus\n",
        "sentence_list = nltk.sent_tokenize(text) #a list of sentences"
      ],
      "metadata": {
        "id": "iDqAJ_1PFGRK"
      },
      "execution_count": null,
      "outputs": []
    },
    {
      "cell_type": "code",
      "source": [
        "#print the list of references\n",
        "print (sentence_list)"
      ],
      "metadata": {
        "colab": {
          "base_uri": "https://localhost:8080/"
        },
        "id": "1kqI4euBGbNl",
        "outputId": "433c1a5e-e765-46e2-96ad-555b03b160b5"
      },
      "execution_count": null,
      "outputs": [
        {
          "output_type": "stream",
          "name": "stdout",
          "text": [
            "[\"Women's general health and wellness\\n\\nThere is credible information available to women not only on such problems as eating disorders, stress, alcoholism, addictions, and depression, but also on basic topics such as good nutrition, heart health, and exercise.\", 'Women’s health comprises not only health concerns such as eating disorders, stress, alcoholism, addictions, and depression, but also good nutrition, heart health, and exercise.', 'Differences in hormones, metabolism, and anatomy make Women’s health a unique topic beyond the normal health and wellness standards.', 'For example, it is beneficial a woman maintains an optimum weight.', \"If a woman's waist size measures more than 35 inches (89 cm), she is more likely to develop heart disease, high blood pressure, and diabetes.\", 'Eating sensible meals, eliminating after-dinner snacks, and making physical activity a part of daily life are significant ways to help control weight and lower the risk of a long list of health problems.', \"Smoking is detrimental to everyone's health and the health of those around them.\", 'Despite the known health risks, many women continue to smoke.', 'Even though the number of female smokers is declining, about 12% of women in the U.S. continue to smoke in spite of the well-publicized risks including cancer, heart disease, and innumerable other health issues.', 'Drinking an excessive amount of alcohol is also harmful to health.', 'Although women typically begin drinking at a later age than men and tend to drink somewhat less, lower doses of alcohol are required for women to develop alcohol-related medical problems including alcohol toxicity, cirrhosis, and hepatitis.', 'Women should be aware they metabolize many drugs differently than men.', 'In some cases, and for some medications, the rate of metabolism in women may be slower, and in other cases, faster.', 'It is essential that women are well informed about the kinds and correct dosages of any drugs they are taking.']\n"
          ]
        }
      ]
    },
    {
      "cell_type": "code",
      "source": [
        "#a function to return greeting response to a users greeting\n",
        "def greeting_response(text):\n",
        "  text = text.lower()\n",
        "\n",
        "  #bots greeting response\n",
        "  bot_greet = ['howdy', 'hi', 'hey', 'hello', 'hola']\n",
        "  #users greeting\n",
        "  user_greet = ['hi', 'hey','hello','hola','greetings','wassup']\n",
        "\n",
        "  for word in text.split():\n",
        "    if word in user_greet:\n",
        "      return random.choice(bot_greet)"
      ],
      "metadata": {
        "id": "-TP6eKp5GiIN"
      },
      "execution_count": null,
      "outputs": []
    },
    {
      "cell_type": "code",
      "source": [
        "def index_sort (list_var):\n",
        "  length = len(list_var)\n",
        "  list_index = list(range(0, length))\n",
        "\n",
        "  x=list_var\n",
        "  for i in range(length):\n",
        "    for j in range(length):\n",
        "      if x[list_index[i]] >x[list_index[j]]:\n",
        "        #swap\n",
        "        temp=list_index[i]\n",
        "        list_index[i] = list_index[j]\n",
        "        list_index[j]=   temp\n",
        "\n",
        "  return list_index\n"
      ],
      "metadata": {
        "id": "BNHhNGYyIQjw"
      },
      "execution_count": null,
      "outputs": []
    },
    {
      "cell_type": "code",
      "source": [
        "#create the bots response\n",
        "def bot_response(user_input):\n",
        "  user_input = user_input.lower()\n",
        "  sentence_list.append(user_input)\n",
        "  bot_response=''\n",
        "  cm = CountVectorizer().fit_transform(sentence_list)\n",
        "  similarity_scores = cosine_similarity(cm[-1],cm)\n",
        "  similarity_scores_list= similarity_scores.flatten()\n",
        "  index= index_sort (similarity_scores_list)\n",
        "  index = index [1:]\n",
        "  response_flag = 0\n",
        "\n",
        "  j = 0\n",
        "  for i in range(len(index)):\n",
        "    if similarity_scores_list [index[i]] > 0.0:\n",
        "      bot_response = bot_response+'' +sentence_list[index[i]]\n",
        "      response_flag= 1\n",
        "      j=j+1\n",
        "    if j>2:\n",
        "      break\n",
        "\n",
        "    if response_flag == 0:\n",
        "      bot_response= bot_response+''+\"i apologize, i don't understand you ooo.\"\n",
        "\n",
        "    sentence_list.remove(user_input)\n",
        "\n",
        "    return bot_response\n",
        "\n",
        "\n"
      ],
      "metadata": {
        "id": "i9hRqnCmKCSj"
      },
      "execution_count": null,
      "outputs": []
    },
    {
      "cell_type": "code",
      "source": [
        "#start the chat :\n",
        "print('women health bot: I am Doc bot or wonder woman health bot for clearity,i will answer your queries about women health  , if you want to exit, type bye    ')\n",
        "\n",
        "\n",
        "exit_list = ['exit','see you latter','bye','quit','break']\n",
        "\n",
        "while (True):\n",
        "  user_input = input()\n",
        "  if user_input.lower() in exit_list :\n",
        "    print ('doc bot chat with you later !')\n",
        "    break\n",
        "  else:\n",
        "    if greeting_response(user_input)!= None:\n",
        "     print ('Doc bot: '+greeting_response(user_input))\n",
        "    else:\n",
        "      print('Doc bot :'+bot_response(user_input))"
      ],
      "metadata": {
        "id": "HuElgTiFVscy",
        "colab": {
          "base_uri": "https://localhost:8080/"
        },
        "outputId": "2d0daa42-ce24-47c3-cea8-14eada5dae71"
      },
      "execution_count": null,
      "outputs": [
        {
          "output_type": "stream",
          "name": "stdout",
          "text": [
            "women health bot: I am Doc bot or wonder woman health bot for clearity,i will answer your queries about women health  , if you want to exit, type bye    \n",
            "Doc bot: hi\n",
            "Doc bot: hey\n",
            "Doc bot: hey\n",
            "Doc bot :Smoking is detrimental to everyone's health and the health of those around them.\n",
            "Doc bot :Women’s health comprises not only health concerns such as eating disorders, stress, alcoholism, addictions, and depression, but also good nutrition, heart health, and exercise.\n",
            "Doc bot :For example, it is beneficial a woman maintains an optimum weight.\n",
            "Doc bot :i apologize, i don't understand you ooo.\n",
            "bye\n",
            "doc bot chat with you later !\n"
          ]
        }
      ]
    },
    {
      "cell_type": "code",
      "source": [],
      "metadata": {
        "id": "IySGDMrYZBzL"
      },
      "execution_count": null,
      "outputs": []
    }
  ]
}